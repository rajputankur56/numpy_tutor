{
  "nbformat": 4,
  "nbformat_minor": 0,
  "metadata": {
    "colab": {
      "name": "numpy_notebook.ipynb",
      "provenance": [],
      "authorship_tag": "ABX9TyPOZz7qe2dyZTUYFEP/y5mu",
      "include_colab_link": true
    },
    "kernelspec": {
      "name": "python3",
      "display_name": "Python 3"
    }
  },
  "cells": [
    {
      "cell_type": "markdown",
      "metadata": {
        "id": "view-in-github",
        "colab_type": "text"
      },
      "source": [
        "<a href=\"https://colab.research.google.com/github/rajputankur56/numpy_tutor/blob/master/numpy_notebook.ipynb\" target=\"_parent\"><img src=\"https://colab.research.google.com/assets/colab-badge.svg\" alt=\"Open In Colab\"/></a>"
      ]
    },
    {
      "cell_type": "code",
      "metadata": {
        "id": "qe5tTB6_E07j",
        "colab_type": "code",
        "colab": {}
      },
      "source": [
        "import numpy as np"
      ],
      "execution_count": 2,
      "outputs": []
    },
    {
      "cell_type": "code",
      "metadata": {
        "id": "HDt8aIlME_ao",
        "colab_type": "code",
        "colab": {
          "base_uri": "https://localhost:8080/",
          "height": 35
        },
        "outputId": "eaa12a0f-ef34-4c70-dff7-679e7e9839d3"
      },
      "source": [
        "# create a array\n",
        "arr = np.array([1,2,3,4])\n",
        "arr"
      ],
      "execution_count": 4,
      "outputs": [
        {
          "output_type": "execute_result",
          "data": {
            "text/plain": [
              "array([1, 2, 3, 4])"
            ]
          },
          "metadata": {
            "tags": []
          },
          "execution_count": 4
        }
      ]
    },
    {
      "cell_type": "code",
      "metadata": {
        "id": "IKf58IXfFMTF",
        "colab_type": "code",
        "colab": {
          "base_uri": "https://localhost:8080/",
          "height": 35
        },
        "outputId": "a4ac80ca-ec1e-42fa-d6b5-f8d02f6d3d49"
      },
      "source": [
        "# array upcast to float\n",
        "arr = np.array([1,2,3,4.0])\n",
        "arr"
      ],
      "execution_count": 5,
      "outputs": [
        {
          "output_type": "execute_result",
          "data": {
            "text/plain": [
              "array([1., 2., 3., 4.])"
            ]
          },
          "metadata": {
            "tags": []
          },
          "execution_count": 5
        }
      ]
    },
    {
      "cell_type": "code",
      "metadata": {
        "id": "jMtfYQ8-FVcc",
        "colab_type": "code",
        "colab": {
          "base_uri": "https://localhost:8080/",
          "height": 35
        },
        "outputId": "dd78adc2-15f6-48c6-ad96-ddd4fceeef20"
      },
      "source": [
        "## upcast to string\n",
        "arr = np.array([1,2,3.0,'hello'])\n",
        "arr"
      ],
      "execution_count": 6,
      "outputs": [
        {
          "output_type": "execute_result",
          "data": {
            "text/plain": [
              "array(['1', '2', '3.0', 'hello'], dtype='<U32')"
            ]
          },
          "metadata": {
            "tags": []
          },
          "execution_count": 6
        }
      ]
    },
    {
      "cell_type": "code",
      "metadata": {
        "id": "sMS_UXpOFliL",
        "colab_type": "code",
        "colab": {
          "base_uri": "https://localhost:8080/",
          "height": 35
        },
        "outputId": "460e685c-184e-4c92-cb99-7a5561c7e241"
      },
      "source": [
        "# specifying data type\n",
        "arr = np.array([1,2,3,4.0],dtype = np.int64)\n",
        "arr"
      ],
      "execution_count": 7,
      "outputs": [
        {
          "output_type": "execute_result",
          "data": {
            "text/plain": [
              "array([1, 2, 3, 4])"
            ]
          },
          "metadata": {
            "tags": []
          },
          "execution_count": 7
        }
      ]
    },
    {
      "cell_type": "code",
      "metadata": {
        "id": "CcQM9z1GF2jn",
        "colab_type": "code",
        "colab": {
          "base_uri": "https://localhost:8080/",
          "height": 107
        },
        "outputId": "a451aa66-3caf-49b9-be50-e025262d0c37"
      },
      "source": [
        "##multidimesional array\n",
        "\n",
        "mulArr = np.array([[[1,2,3],[4,5,6]],[[1,2,3],[4,5,6]]])\n",
        "# mul = np.array([[1,2,3],[4,5,6]])\n",
        "mulArr"
      ],
      "execution_count": 11,
      "outputs": [
        {
          "output_type": "execute_result",
          "data": {
            "text/plain": [
              "array([[[1, 2, 3],\n",
              "        [4, 5, 6]],\n",
              "\n",
              "       [[1, 2, 3],\n",
              "        [4, 5, 6]]])"
            ]
          },
          "metadata": {
            "tags": []
          },
          "execution_count": 11
        }
      ]
    },
    {
      "cell_type": "code",
      "metadata": {
        "id": "CWpVk0w1GFFl",
        "colab_type": "code",
        "colab": {
          "base_uri": "https://localhost:8080/",
          "height": 53
        },
        "outputId": "d077c23b-e151-40ba-b215-5ba41402db60"
      },
      "source": [
        "## array of zeros\n",
        "\n",
        "arr = np.zeros(5)\n",
        "arr\n",
        "\n",
        "arr =np.zeros((2,3))\n",
        "arr"
      ],
      "execution_count": 14,
      "outputs": [
        {
          "output_type": "execute_result",
          "data": {
            "text/plain": [
              "array([[0., 0., 0.],\n",
              "       [0., 0., 0.]])"
            ]
          },
          "metadata": {
            "tags": []
          },
          "execution_count": 14
        }
      ]
    },
    {
      "cell_type": "code",
      "metadata": {
        "id": "P58UhL7MGXzd",
        "colab_type": "code",
        "colab": {
          "base_uri": "https://localhost:8080/",
          "height": 53
        },
        "outputId": "23597e62-ab1e-4517-870b-f064fe21e856"
      },
      "source": [
        "## array of ones\n",
        "\n",
        "arr = np.ones(5)\n",
        "arr\n",
        "one = np.ones(5,dtype = np.int32)\n",
        "one\n",
        "one2  = np.ones((2,3),dtype = np.int64)\n",
        "one2"
      ],
      "execution_count": 17,
      "outputs": [
        {
          "output_type": "execute_result",
          "data": {
            "text/plain": [
              "array([[1, 1, 1],\n",
              "       [1, 1, 1]])"
            ]
          },
          "metadata": {
            "tags": []
          },
          "execution_count": 17
        }
      ]
    },
    {
      "cell_type": "code",
      "metadata": {
        "id": "88SmXqcvGpFe",
        "colab_type": "code",
        "colab": {
          "base_uri": "https://localhost:8080/",
          "height": 53
        },
        "outputId": "80156275-d7bd-46c0-cea7-5618e66401a9"
      },
      "source": [
        "## random number in numpy array\n",
        "\n",
        "arr = np.random.rand(5)\n",
        "arr\n",
        "\n",
        "arr = np.random.rand(2,3)\n",
        "arr"
      ],
      "execution_count": 20,
      "outputs": [
        {
          "output_type": "execute_result",
          "data": {
            "text/plain": [
              "array([[0.51651625, 0.0791668 , 0.02918575],\n",
              "       [0.30756353, 0.39446801, 0.20170887]])"
            ]
          },
          "metadata": {
            "tags": []
          },
          "execution_count": 20
        }
      ]
    },
    {
      "cell_type": "code",
      "metadata": {
        "id": "iE7tVtWUG2ie",
        "colab_type": "code",
        "colab": {
          "base_uri": "https://localhost:8080/",
          "height": 107
        },
        "outputId": "4cf56d6f-191e-452a-ed66-8aa7b2fa42bc"
      },
      "source": [
        "## array of choice \n",
        "\n",
        "arr = np.full(5,7)\n",
        "arr\n",
        "\n",
        "arr = np.full((2,2),9)\n",
        "arr\n",
        "\n",
        "arr = np.full((2,2,2),9)\n",
        "arr"
      ],
      "execution_count": 25,
      "outputs": [
        {
          "output_type": "execute_result",
          "data": {
            "text/plain": [
              "array([[[9, 9],\n",
              "        [9, 9]],\n",
              "\n",
              "       [[9, 9],\n",
              "        [9, 9]]])"
            ]
          },
          "metadata": {
            "tags": []
          },
          "execution_count": 25
        }
      ]
    },
    {
      "cell_type": "code",
      "metadata": {
        "id": "b_NrEGTSHQ2z",
        "colab_type": "code",
        "colab": {
          "base_uri": "https://localhost:8080/",
          "height": 107
        },
        "outputId": "d4da0465-4c11-4edd-fe7b-e5b738c70efb"
      },
      "source": [
        "## create matrix indentity matrix\n",
        "\n",
        "arr = np.eye(5)\n",
        "arr\n",
        "\n",
        "# to move value 1 to upper diagonal specify k\n",
        "arr = np.eye(5,k=1)\n",
        "arr\n",
        "\n",
        "arr = np.eye(5,k=-2)\n",
        "arr"
      ],
      "execution_count": 29,
      "outputs": [
        {
          "output_type": "execute_result",
          "data": {
            "text/plain": [
              "array([[0., 0., 0., 0., 0.],\n",
              "       [0., 0., 0., 0., 0.],\n",
              "       [1., 0., 0., 0., 0.],\n",
              "       [0., 1., 0., 0., 0.],\n",
              "       [0., 0., 1., 0., 0.]])"
            ]
          },
          "metadata": {
            "tags": []
          },
          "execution_count": 29
        }
      ]
    },
    {
      "cell_type": "code",
      "metadata": {
        "id": "QlKyWHSOHubi",
        "colab_type": "code",
        "colab": {
          "base_uri": "https://localhost:8080/",
          "height": 53
        },
        "outputId": "7f98cb52-bc51-4239-e383-a58841d343cd"
      },
      "source": [
        "## create a a range array\n",
        "arr = np.arange(5)\n",
        "arr\n",
        "arr = np.arange(1,20,3)\n",
        "arr\n",
        "arr = np.arange(0,2,3)\n",
        "arr\n",
        "# #linspace\n",
        "arr = np.linspace(0,10,7)\n",
        "arr"
      ],
      "execution_count": 34,
      "outputs": [
        {
          "output_type": "execute_result",
          "data": {
            "text/plain": [
              "array([ 0.        ,  1.66666667,  3.33333333,  5.        ,  6.66666667,\n",
              "        8.33333333, 10.        ])"
            ]
          },
          "metadata": {
            "tags": []
          },
          "execution_count": 34
        }
      ]
    },
    {
      "cell_type": "code",
      "metadata": {
        "id": "d_tMiVoKIO_t",
        "colab_type": "code",
        "colab": {
          "base_uri": "https://localhost:8080/",
          "height": 35
        },
        "outputId": "405b5a79-29ba-471d-ed3d-3a3ebcd0ca6e"
      },
      "source": [
        "## check dimensions or axes of array\n",
        "arr = np.eye(5)\n",
        "arr.ndim\n",
        "\n",
        "## check shape of array\n",
        "arr.shape"
      ],
      "execution_count": 37,
      "outputs": [
        {
          "output_type": "execute_result",
          "data": {
            "text/plain": [
              "(5, 5)"
            ]
          },
          "metadata": {
            "tags": []
          },
          "execution_count": 37
        }
      ]
    },
    {
      "cell_type": "code",
      "metadata": {
        "id": "1YAaMugYIV7c",
        "colab_type": "code",
        "colab": {
          "base_uri": "https://localhost:8080/",
          "height": 35
        },
        "outputId": "d7b1bb54-1a25-4a28-90dc-775c480d12e3"
      },
      "source": [
        "# size of an array\n",
        "arr.size"
      ],
      "execution_count": 39,
      "outputs": [
        {
          "output_type": "execute_result",
          "data": {
            "text/plain": [
              "25"
            ]
          },
          "metadata": {
            "tags": []
          },
          "execution_count": 39
        }
      ]
    },
    {
      "cell_type": "code",
      "metadata": {
        "id": "FvboDUF-Ieao",
        "colab_type": "code",
        "colab": {
          "base_uri": "https://localhost:8080/",
          "height": 53
        },
        "outputId": "3b8a0e58-f747-472a-c722-df0ac845329d"
      },
      "source": [
        "# reshape a array\n",
        "arr = np.array([1,2,3,4,5,6])\n",
        "\n",
        "arr = np.reshape(arr,(3,2))\n",
        "arr\n",
        "\n",
        "## specifying -1 when we are not sure about calue of rows or columns with given elements in array, at least one dimension should be given\n",
        "arr = np.reshape(arr,(-1,3))\n",
        "arr\n",
        "arr = np.array([1,2,3,4,5,6,7,8,9,10,11,12])\n",
        "arr = np.reshape(arr,(2,-1))\n",
        "arr"
      ],
      "execution_count": 46,
      "outputs": [
        {
          "output_type": "execute_result",
          "data": {
            "text/plain": [
              "array([[ 1,  2,  3,  4,  5,  6],\n",
              "       [ 7,  8,  9, 10, 11, 12]])"
            ]
          },
          "metadata": {
            "tags": []
          },
          "execution_count": 46
        }
      ]
    },
    {
      "cell_type": "code",
      "metadata": {
        "id": "SREOLKdDJL6f",
        "colab_type": "code",
        "colab": {
          "base_uri": "https://localhost:8080/",
          "height": 107
        },
        "outputId": "ab3f6737-d0fd-4240-a445-326606f66eb2"
      },
      "source": [
        "## flatten a array\n",
        "arr = np.eye(5)\n",
        "arr\n",
        "\n",
        "a = arr.flatten()\n",
        "a[0] =5\n",
        "a\n",
        "arr\n",
        "\n",
        "arr = np.eye(5)\n",
        "a = arr.ravel()\n",
        "a[0] = 5\n",
        "a\n",
        "arr"
      ],
      "execution_count": 57,
      "outputs": [
        {
          "output_type": "execute_result",
          "data": {
            "text/plain": [
              "array([[5., 0., 0., 0., 0.],\n",
              "       [0., 1., 0., 0., 0.],\n",
              "       [0., 0., 1., 0., 0.],\n",
              "       [0., 0., 0., 1., 0.],\n",
              "       [0., 0., 0., 0., 1.]])"
            ]
          },
          "metadata": {
            "tags": []
          },
          "execution_count": 57
        }
      ]
    },
    {
      "cell_type": "code",
      "metadata": {
        "id": "ggNEW6M7J_LG",
        "colab_type": "code",
        "colab": {
          "base_uri": "https://localhost:8080/",
          "height": 71
        },
        "outputId": "b2461b1f-aa3a-4692-e703-42fb2e31c385"
      },
      "source": [
        "## transpose a matrix\n",
        "\n",
        "arr = np.ones((2,3))\n",
        "arr\n",
        "\n",
        "arr = arr.transpose()\n",
        "arr"
      ],
      "execution_count": 60,
      "outputs": [
        {
          "output_type": "execute_result",
          "data": {
            "text/plain": [
              "array([[1., 1.],\n",
              "       [1., 1.],\n",
              "       [1., 1.]])"
            ]
          },
          "metadata": {
            "tags": []
          },
          "execution_count": 60
        }
      ]
    },
    {
      "cell_type": "code",
      "metadata": {
        "id": "uBMZad0EKORU",
        "colab_type": "code",
        "colab": {
          "base_uri": "https://localhost:8080/",
          "height": 35
        },
        "outputId": "1f807b66-67d5-4e6a-c44a-0d61132fc3aa"
      },
      "source": [
        "## expand dimensions\n",
        "\n",
        "arr = np.array([[1,2,3,4,5,6],[7,8,9,0,11,12]])\n",
        "arr\n",
        "arr.shape\n",
        "# arr = np.expand_dims(arr,axis=0)\n",
        "# arr\n",
        "# arr.shape\n",
        "arr = np.expand_dims(arr,axis=1)\n",
        "arr\n",
        "arr.shape"
      ],
      "execution_count": 69,
      "outputs": [
        {
          "output_type": "execute_result",
          "data": {
            "text/plain": [
              "(2, 1, 6)"
            ]
          },
          "metadata": {
            "tags": []
          },
          "execution_count": 69
        }
      ]
    },
    {
      "cell_type": "code",
      "metadata": {
        "id": "oPwDVc7eKo9N",
        "colab_type": "code",
        "colab": {
          "base_uri": "https://localhost:8080/",
          "height": 35
        },
        "outputId": "3bd26b15-ffb7-45b7-96ec-8d1ec56dc98e"
      },
      "source": [
        "## squeeze dimensions\n",
        "\n",
        "arr = np.array([[[1,2,3],[4,5,6]]])\n",
        "arr\n",
        "arr.shape\n",
        "arr = np.squeeze(arr,axis =0)\n",
        "arr\n",
        "arr.shape"
      ],
      "execution_count": 74,
      "outputs": [
        {
          "output_type": "execute_result",
          "data": {
            "text/plain": [
              "(2, 3)"
            ]
          },
          "metadata": {
            "tags": []
          },
          "execution_count": 74
        }
      ]
    },
    {
      "cell_type": "code",
      "metadata": {
        "id": "1cAZ6wgdK3NL",
        "colab_type": "code",
        "colab": {
          "base_uri": "https://localhost:8080/",
          "height": 35
        },
        "outputId": "45e3c256-d164-4da0-8edb-d96b66e6dd9f"
      },
      "source": [
        "## indexing and slicing\n",
        "arr = np.array([1,2,3,4,5,6,7,8,9])\n",
        "arr[0:6]\n",
        "arr[0:6:2]\n",
        "arr[:]\n",
        "arr[1::]\n",
        "arr[1::2]\n",
        "arr[:5:]\n",
        "arr[::]"
      ],
      "execution_count": 83,
      "outputs": [
        {
          "output_type": "execute_result",
          "data": {
            "text/plain": [
              "array([1, 2, 3, 4, 5, 6, 7, 8, 9])"
            ]
          },
          "metadata": {
            "tags": []
          },
          "execution_count": 83
        }
      ]
    },
    {
      "cell_type": "code",
      "metadata": {
        "id": "MgAGoxg7LiHE",
        "colab_type": "code",
        "colab": {
          "base_uri": "https://localhost:8080/",
          "height": 35
        },
        "outputId": "36003261-d61a-4a2f-c702-8c7b5e7542da"
      },
      "source": [
        "#slicing\n",
        "arr = np.array([[1,2,3,4],[5,6,7,8]])\n",
        "arr[1:,2:3]"
      ],
      "execution_count": 85,
      "outputs": [
        {
          "output_type": "execute_result",
          "data": {
            "text/plain": [
              "array([[7]])"
            ]
          },
          "metadata": {
            "tags": []
          },
          "execution_count": 85
        }
      ]
    },
    {
      "cell_type": "code",
      "metadata": {
        "id": "E6bushLsLq6o",
        "colab_type": "code",
        "colab": {
          "base_uri": "https://localhost:8080/",
          "height": 71
        },
        "outputId": "615bba7e-97b8-4505-b7d2-4c681e6505be"
      },
      "source": [
        "#slicing on 3d\n",
        "a = np.array([[[1,2],[3,4],[5,6]],# first axis array\n",
        "[[7,8],[9,10],[11,12]],# second axis array\n",
        "[[13,14],[15,16],[17,18]]])# third axis array\n",
        "# 3-D array\n",
        "a\n",
        "## try to play with teaking values\n",
        "a[0:1,0:,0:]"
      ],
      "execution_count": 86,
      "outputs": [
        {
          "output_type": "execute_result",
          "data": {
            "text/plain": [
              "array([[[1, 2],\n",
              "        [3, 4],\n",
              "        [5, 6]]])"
            ]
          },
          "metadata": {
            "tags": []
          },
          "execution_count": 86
        }
      ]
    },
    {
      "cell_type": "code",
      "metadata": {
        "id": "4Utmwu0hL3I9",
        "colab_type": "code",
        "colab": {
          "base_uri": "https://localhost:8080/",
          "height": 233
        },
        "outputId": "d1b43012-e389-4cf9-8366-176de35659fc"
      },
      "source": [
        "# negative slicing\n",
        "a = np.array([[1,2,3,4,5],\n",
        "[6,7,8,9,10]])\n",
        "# print(a[:,-2])\n",
        "a = np.array([[1,2,3,4,5],\n",
        "[6,7,8,9,10]])\n",
        "print('Original array :','\\n',a)\n",
        "print('Reversed array :','\\n',a[::-1,::-1])\n",
        "print('Reversed array :','\\n',np.flip(a,axis = 0))\n",
        "print('Reversed array :','\\n',np.flip(a,axis = 1))"
      ],
      "execution_count": 87,
      "outputs": [
        {
          "output_type": "stream",
          "text": [
            "Original array : \n",
            " [[ 1  2  3  4  5]\n",
            " [ 6  7  8  9 10]]\n",
            "Reversed array : \n",
            " [[10  9  8  7  6]\n",
            " [ 5  4  3  2  1]]\n",
            "Reversed array : \n",
            " [[ 6  7  8  9 10]\n",
            " [ 1  2  3  4  5]]\n",
            "Reversed array : \n",
            " [[ 5  4  3  2  1]\n",
            " [10  9  8  7  6]]\n"
          ],
          "name": "stdout"
        }
      ]
    },
    {
      "cell_type": "markdown",
      "metadata": {
        "id": "LgNxIMAQMyuS",
        "colab_type": "text"
      },
      "source": [
        "**Stacking and concatenating array**"
      ]
    },
    {
      "cell_type": "code",
      "metadata": {
        "id": "QAIWP8cKMbR0",
        "colab_type": "code",
        "colab": {
          "base_uri": "https://localhost:8080/",
          "height": 35
        },
        "outputId": "d14b6ac3-fae5-4de5-9f94-a047ac13c18c"
      },
      "source": [
        "a = np.arange(0,5)\n",
        "b = np.arange(5,10)\n",
        "a\n",
        "b\n",
        "c = np.vstack((a,b))\n",
        "c\n",
        "d = np.hstack((a,b))\n",
        "d"
      ],
      "execution_count": 92,
      "outputs": [
        {
          "output_type": "execute_result",
          "data": {
            "text/plain": [
              "array([0, 1, 2, 3, 4, 5, 6, 7, 8, 9])"
            ]
          },
          "metadata": {
            "tags": []
          },
          "execution_count": 92
        }
      ]
    },
    {
      "cell_type": "code",
      "metadata": {
        "id": "p3M85yHPNNkP",
        "colab_type": "code",
        "colab": {
          "base_uri": "https://localhost:8080/",
          "height": 215
        },
        "outputId": "d5d83e50-4661-47b4-da85-deb8692d459e"
      },
      "source": [
        "a = [[1,2],[3,4]]\n",
        "b = [[5,6],[7,8]]\n",
        "c = np.dstack((a,b))\n",
        "print('Array 1 :','\\n',a)\n",
        "print('Array 2 :','\\n',b)\n",
        "print('Dstack :','\\n',c)\n",
        "print(c.shape)"
      ],
      "execution_count": 94,
      "outputs": [
        {
          "output_type": "stream",
          "text": [
            "Array 1 : \n",
            " [[1, 2], [3, 4]]\n",
            "Array 2 : \n",
            " [[5, 6], [7, 8]]\n",
            "Dstack : \n",
            " [[[1 5]\n",
            "  [2 6]]\n",
            "\n",
            " [[3 7]\n",
            "  [4 8]]]\n",
            "(2, 2, 2)\n"
          ],
          "name": "stdout"
        }
      ]
    },
    {
      "cell_type": "code",
      "metadata": {
        "id": "ge6ELyh1QD_P",
        "colab_type": "code",
        "colab": {
          "base_uri": "https://localhost:8080/",
          "height": 179
        },
        "outputId": "d5bedb50-240f-4295-8201-e65b056b3ab4"
      },
      "source": [
        "# concatenate\n",
        "a = np.arange(0,5).reshape(1,5)\n",
        "b = np.arange(5,10).reshape(1,5)\n",
        "print('Array 1 :','\\n',a)\n",
        "print('Array 2 :','\\n',b)\n",
        "print('Concatenate along rows :','\\n',np.concatenate((a,b),axis=0))\n",
        "print('Concatenate along columns :','\\n',np.concatenate((a,b),axis=1))"
      ],
      "execution_count": 95,
      "outputs": [
        {
          "output_type": "stream",
          "text": [
            "Array 1 : \n",
            " [[0 1 2 3 4]]\n",
            "Array 2 : \n",
            " [[5 6 7 8 9]]\n",
            "Concatenate along rows : \n",
            " [[0 1 2 3 4]\n",
            " [5 6 7 8 9]]\n",
            "Concatenate along columns : \n",
            " [[0 1 2 3 4 5 6 7 8 9]]\n"
          ],
          "name": "stdout"
        }
      ]
    },
    {
      "cell_type": "code",
      "metadata": {
        "id": "rjUV415HQJtb",
        "colab_type": "code",
        "colab": {
          "base_uri": "https://localhost:8080/",
          "height": 89
        },
        "outputId": "7fc40460-8098-40e1-8a80-cdf9b275a021"
      },
      "source": [
        "## append values to an array\n",
        "a = np.eye(3)\n",
        "a=np.append(a,[[2,3,2]],axis = 0)\n",
        "a"
      ],
      "execution_count": 97,
      "outputs": [
        {
          "output_type": "execute_result",
          "data": {
            "text/plain": [
              "array([[1., 0., 0.],\n",
              "       [0., 1., 0.],\n",
              "       [0., 0., 1.],\n",
              "       [2., 3., 2.]])"
            ]
          },
          "metadata": {
            "tags": []
          },
          "execution_count": 97
        }
      ]
    },
    {
      "cell_type": "code",
      "metadata": {
        "id": "ReKr_n-4QUe1",
        "colab_type": "code",
        "colab": {
          "base_uri": "https://localhost:8080/",
          "height": 89
        },
        "outputId": "9039aa4a-4c1e-4ac3-e343-3aac531401a5"
      },
      "source": [
        "## broadcasting\n",
        "a = np.arange(10,20,2)\n",
        "b = np.array([[2],[2]])\n",
        "print('Adding two different size arrays :','\\n',a+b)\n",
        "print('Multiplying an ndarray and a number :',a*2)"
      ],
      "execution_count": 98,
      "outputs": [
        {
          "output_type": "stream",
          "text": [
            "Adding two different size arrays : \n",
            " [[12 14 16 18 20]\n",
            " [12 14 16 18 20]]\n",
            "Multiplying an ndarray and a number : [20 24 28 32 36]\n"
          ],
          "name": "stdout"
        }
      ]
    },
    {
      "cell_type": "code",
      "metadata": {
        "id": "BXOVVpmSQih7",
        "colab_type": "code",
        "colab": {
          "base_uri": "https://localhost:8080/",
          "height": 71
        },
        "outputId": "6bc0cee5-dce7-47bf-a4d8-050e0c046b9e"
      },
      "source": [
        "## ufunc or universal functions\n",
        "a = [1,2,3,4,5]\n",
        "b = [6,7,8,9,10]\n",
        "%timeit a+b\n",
        "a = np.arange(1,6)\n",
        "b = np.arange(6,11)\n",
        "%timeit a+b"
      ],
      "execution_count": 99,
      "outputs": [
        {
          "output_type": "stream",
          "text": [
            "10000000 loops, best of 3: 82.9 ns per loop\n",
            "The slowest run took 31.94 times longer than the fastest. This could mean that an intermediate result is being cached.\n",
            "1000000 loops, best of 3: 570 ns per loop\n"
          ],
          "name": "stdout"
        }
      ]
    },
    {
      "cell_type": "code",
      "metadata": {
        "id": "mq5pp_QeQrmI",
        "colab_type": "code",
        "colab": {
          "base_uri": "https://localhost:8080/",
          "height": 107
        },
        "outputId": "3ac31ff8-cb63-4ca5-f66c-839fcb190875"
      },
      "source": [
        "## maths\n",
        "a = np.array([1,2,3,4,5])\n",
        "print('Subtract :',a-5)\n",
        "print('Multiply :',a*5)\n",
        "print('Divide :',a/5)\n",
        "print('Power :',a**2)\n",
        "print('Remainder :',a%5)"
      ],
      "execution_count": 100,
      "outputs": [
        {
          "output_type": "stream",
          "text": [
            "Subtract : [-4 -3 -2 -1  0]\n",
            "Multiply : [ 5 10 15 20 25]\n",
            "Divide : [0.2 0.4 0.6 0.8 1. ]\n",
            "Power : [ 1  4  9 16 25]\n",
            "Remainder : [1 2 3 4 0]\n"
          ],
          "name": "stdout"
        }
      ]
    },
    {
      "cell_type": "code",
      "metadata": {
        "id": "0jrOgXZ-QvqM",
        "colab_type": "code",
        "colab": {
          "base_uri": "https://localhost:8080/",
          "height": 71
        },
        "outputId": "f6e8b122-0c9e-461f-c2f2-632e6deb45f2"
      },
      "source": [
        "## central tendency and dispersion\n",
        "a = np.arange(5,15,2)\n",
        "print('Mean :',np.mean(a))\n",
        "print('Standard deviation :',np.std(a))\n",
        "print('Median :',np.median(a))"
      ],
      "execution_count": 102,
      "outputs": [
        {
          "output_type": "stream",
          "text": [
            "Mean : 9.0\n",
            "Standard deviation : 2.8284271247461903\n",
            "Median : 9.0\n"
          ],
          "name": "stdout"
        }
      ]
    },
    {
      "cell_type": "code",
      "metadata": {
        "id": "YO7mCOYqQy2D",
        "colab_type": "code",
        "colab": {
          "base_uri": "https://localhost:8080/",
          "height": 53
        },
        "outputId": "d4d339de-f0fc-442e-8866-0dc93b37de65"
      },
      "source": [
        "## min max and thier index\n",
        "a = np.array([[1,6],\n",
        "[4,3]])\n",
        "# minimum along a column\n",
        "print('Min :',np.min(a,axis=0))\n",
        "# maximum along a row\n",
        "print('Max :',np.max(a,axis=1))"
      ],
      "execution_count": 103,
      "outputs": [
        {
          "output_type": "stream",
          "text": [
            "Min : [1 3]\n",
            "Max : [6 4]\n"
          ],
          "name": "stdout"
        }
      ]
    },
    {
      "cell_type": "code",
      "metadata": {
        "id": "GGv9IE_zQ6BJ",
        "colab_type": "code",
        "colab": {
          "base_uri": "https://localhost:8080/",
          "height": 53
        },
        "outputId": "0e144845-81f6-4098-dac3-9397b0977b12"
      },
      "source": [
        "## to check index of min and max values\n",
        "a = np.array([[1,6,5],\n",
        "[4,3,7]])\n",
        "# minimum along a column\n",
        "print('Min :',np.argmin(a,axis=0))\n",
        "# maximum along a row\n",
        "print('Max :',np.argmax(a,axis=1))"
      ],
      "execution_count": 105,
      "outputs": [
        {
          "output_type": "stream",
          "text": [
            "Min : [0 1 0]\n",
            "Max : [1 2]\n"
          ],
          "name": "stdout"
        }
      ]
    },
    {
      "cell_type": "code",
      "metadata": {
        "id": "yF-1Whx1RKZV",
        "colab_type": "code",
        "colab": {
          "base_uri": "https://localhost:8080/",
          "height": 179
        },
        "outputId": "94e95360-7c78-4897-f652-00dc0452608f"
      },
      "source": [
        "## sorting \n",
        "a = np.array([1,4,2,5,3,6,8,7,9])\n",
        "np.sort(a, kind='quicksort')\n",
        "a = np.array([[5,6,7,4],\n",
        "              [9,2,3,7]])# sort along the column\n",
        "print(\"Array :\\n\",a)\n",
        "print('Sort along column :','\\n',np.sort(a, kind='mergresort',axis=1))\n",
        "# sort along the row\n",
        "print('Sort along row :','\\n',np.sort(a, kind='mergresort',axis=0))"
      ],
      "execution_count": 107,
      "outputs": [
        {
          "output_type": "stream",
          "text": [
            "Array :\n",
            " [[5 6 7 4]\n",
            " [9 2 3 7]]\n",
            "Sort along column : \n",
            " [[4 5 6 7]\n",
            " [2 3 7 9]]\n",
            "Sort along row : \n",
            " [[5 2 3 4]\n",
            " [9 6 7 7]]\n"
          ],
          "name": "stdout"
        }
      ]
    },
    {
      "cell_type": "code",
      "metadata": {
        "id": "wGXE6-3aRZZy",
        "colab_type": "code",
        "colab": {
          "base_uri": "https://localhost:8080/",
          "height": 35
        },
        "outputId": "f827492e-9090-4596-920f-d13c207a77bc"
      },
      "source": [
        "#import numpy as np\n",
        "import matplotlib.pyplot as plt\n",
        "from scipy import misc\n",
        "\n",
        "dir(misc)\n",
        "# read image\n",
        "im = misc.__loader__#('./original.jpg')\n",
        "im\n",
        "# image\n",
        "# im"
      ],
      "execution_count": 108,
      "outputs": [
        {
          "output_type": "execute_result",
          "data": {
            "text/plain": [
              "<_frozen_importlib_external.SourceFileLoader at 0x7ff14f5a6f28>"
            ]
          },
          "metadata": {
            "tags": []
          },
          "execution_count": 108
        }
      ]
    }
  ]
}